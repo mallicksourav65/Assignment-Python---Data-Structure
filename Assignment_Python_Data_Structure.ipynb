{
  "nbformat": 4,
  "nbformat_minor": 0,
  "metadata": {
    "colab": {
      "provenance": []
    },
    "kernelspec": {
      "name": "python3",
      "display_name": "Python 3"
    },
    "language_info": {
      "name": "python"
    }
  },
  "cells": [
    {
      "cell_type": "markdown",
      "source": [
        "# Data Types and Structures Questions\n",
        "\n",
        "1. What are data structures, and why are they important?\n",
        "\n",
        "--> Data structures are organized formats for storing and managing data, such as lists, tuples, dictionaries, and sets in Python. They are important because they allow efficient data manipulation, retrieval, and storage, which improves performance and simplifies problem-solving.\n",
        "\n",
        "2. Explain the difference between mutable and immutable data types with examples.\n",
        "\n",
        "--> Mutable data types can be changed after creation, such as lists and dictionaries. For example, a list can have elements added or removed. Immutable data types cannot be changed once created, such as tuples and strings. For instance, modifying a string creates a new object instead of changing the original one.\n",
        "\n",
        "3. What are the main differences between lists and tuples in Python?\n",
        "\n",
        "--> Lists are mutable, meaning their elements can be changed, added, or removed. Tuples are immutable, so once created, their contents cannot be altered. Lists generally require more memory and are slower than tuples for iteration, but they are more flexible.\n",
        "\n",
        "4. Describe how dictionaries store data.\n",
        "\n",
        "--> Dictionaries store data as key-value pairs. Each key is unique and acts as an identifier for its value. Internally, dictionaries use hash tables to provide efficient lookups, insertions, and deletions.\n",
        "\n",
        "5. Why might you use a set instead of a list in Python?\n",
        "\n",
        "--> Sets are used when you need to store unique elements without duplicates and perform operations like union, intersection, or difference efficiently. Lists allow duplicates but are slower for membership checks compared to sets.\n",
        "\n",
        "6. What is a string in Python, and how is it different from a list?\n",
        "\n",
        "--> A string is a sequence of characters enclosed in quotes, while a list is a sequence of elements (which can be of any type) enclosed in square brackets. Unlike lists, strings are immutable, and their elements cannot be directly modified.\n",
        "\n",
        "7. How do tuples ensure data integrity in Python?\n",
        "\n",
        "--> Tuples are immutable, meaning their contents cannot be changed after creation. This immutability ensures data integrity because values remain constant throughout the program, making tuples suitable for fixed data collections.\n",
        "\n",
        "8. What is a hash table, and how does it relate to dictionaries in Python?\n",
        "\n",
        "--> A hash table is a data structure that maps keys to values using a hash function. Python dictionaries are implemented using hash tables, which allow for average-case O(1) time complexity for insertions, deletions, and lookups.\n",
        "\n",
        "9. Can lists contain different data types in Python?\n",
        "\n",
        "--> Yes, lists in Python can store elements of different data types, such as integers, strings, floats, and even other lists, making them very flexible.\n",
        "\n",
        "10. Explain why strings are immutable in Python.\n",
        "\n",
        "--> Strings are immutable to improve performance and security. Since they cannot be changed in place, they are safe to use as keys in dictionaries and ensure consistent behavior when shared across different parts of a program.\n",
        "\n",
        "11. What advantages do dictionaries offer over lists for certain tasks?\n",
        "\n",
        "--> Dictionaries provide faster lookups for data when using keys, as they have an average time complexity of O(1). Unlike lists, which require searching through indices, dictionaries allow direct access to values using unique keys.\n",
        "\n",
        "12. Describe a scenario where using a tuple would be preferable over a list.\n",
        "\n",
        "--> Tuples are preferable when storing fixed data that should not change, such as geographic coordinates (latitude, longitude) or configuration settings. They also allow usage as dictionary keys due to immutability.\n",
        "\n",
        "13. How do sets handle duplicate values in Python?\n",
        "\n",
        "--> Sets automatically eliminate duplicate values. If duplicate elements are added to a set, only one instance is stored, ensuring all elements remain unique.\n",
        "\n",
        "14. How does the 'in' keyword work differently for lists and dictionaries?\n",
        "\n",
        "--> For lists, the 'in' keyword checks if a value exists among the elements. For dictionaries, it checks if a key exists, not a value.\n",
        "\n",
        "15. Can you modify the elements of a tuple? Explain why or why not.\n",
        "\n",
        "--> No, tuples are immutable, meaning their elements cannot be modified after creation. This design ensures data integrity and allows tuples to be used as dictionary keys.\n",
        "\n",
        "16. What is a nested dictionary, and give an example of its use case.\n",
        "\n",
        "--> A nested dictionary is a dictionary where values can also be dictionaries. They are useful for representing hierarchical data, such as student records:\n",
        "example = {'student1': {'name': 'Alex', 'age': 21}, 'student2': {'name': 'Mia', 'age': 22}}.\n",
        "\n",
        "17. Describe the time complexity of accessing elements in a dictionary.\n",
        "\n",
        "--> Accessing elements in a dictionary has an average-case time complexity of O(1), thanks to its hash table implementation. In rare cases of hash collisions, it may degrade to O(n).\n",
        "\n",
        "18. In what situations are lists preferred over dictionaries?\n",
        "\n",
        "--> Lists are preferred when order matters, when storing collections of items without unique keys, or when sequential processing is required. They are also better for simple, ordered data storage.\n",
        "\n",
        "19. Why are dictionaries considered unordered, and how does that affect data retrieval?\n",
        "\n",
        "--> Dictionaries are considered unordered because their elements are stored based on hash values of keys, not insertion order (before Python 3.7). This means you cannot rely on the order of keys when retrieving data. From Python 3.7 onwards, insertion order is preserved, but conceptually they are still unordered.\n",
        "\n",
        "20. Explain the difference between a list and a dictionary in terms of data retrieval.\n",
        "\n",
        "--> Lists retrieve data using indices (numeric positions), while dictionaries retrieve data using unique keys. This makes lists more suitable for ordered collections and dictionaries better for key-value associations.\n"
      ],
      "metadata": {
        "id": "9RRGseSYnJsl"
      }
    },
    {
      "cell_type": "markdown",
      "source": [
        "# Practical Questions"
      ],
      "metadata": {
        "id": "z_M83e_op5lm"
      }
    },
    {
      "cell_type": "code",
      "source": [
        "# Write a code to create a string with your name and print it\n",
        "\n",
        "n = \"Sourav\"\n",
        "print(n)\n"
      ],
      "metadata": {
        "colab": {
          "base_uri": "https://localhost:8080/"
        },
        "id": "wPFzF2L1p_AT",
        "outputId": "4b1c482f-d85c-48de-d7d4-59bf52332558"
      },
      "execution_count": 1,
      "outputs": [
        {
          "output_type": "stream",
          "name": "stdout",
          "text": [
            "Sourav\n"
          ]
        }
      ]
    },
    {
      "cell_type": "code",
      "source": [
        "#  Write a code to find the length of the string \"Hello World\"\n",
        "\n",
        "a = len(\"Hello World\")\n",
        "print(a)\n"
      ],
      "metadata": {
        "colab": {
          "base_uri": "https://localhost:8080/"
        },
        "id": "r6vcTanCqfYt",
        "outputId": "0dc37b1f-0c45-43ed-d33d-a5e32eef1c38"
      },
      "execution_count": 2,
      "outputs": [
        {
          "output_type": "stream",
          "name": "stdout",
          "text": [
            "11\n"
          ]
        }
      ]
    },
    {
      "cell_type": "code",
      "source": [
        "# Write a code to slice the first 3 characters from the string \"Python Programming\"\n",
        "\n",
        "b = \"Python Programming\"\n",
        "print(b[0:3])"
      ],
      "metadata": {
        "colab": {
          "base_uri": "https://localhost:8080/"
        },
        "id": "ZbOPIHjfqoLz",
        "outputId": "30b35b8d-ad29-4581-d9d5-e2b1595d5e72"
      },
      "execution_count": 3,
      "outputs": [
        {
          "output_type": "stream",
          "name": "stdout",
          "text": [
            "Pyt\n"
          ]
        }
      ]
    },
    {
      "cell_type": "code",
      "source": [
        "# Write a code to convert the string \"hello\" to uppercase\n",
        "\n",
        "t = \"hello\"\n",
        "up_t = t.upper()\n",
        "print(up_t)"
      ],
      "metadata": {
        "colab": {
          "base_uri": "https://localhost:8080/"
        },
        "id": "C0YFR4W1qww7",
        "outputId": "7e4c02c6-c51b-4bd6-fe22-0fc8ff763f89"
      },
      "execution_count": 5,
      "outputs": [
        {
          "output_type": "stream",
          "name": "stdout",
          "text": [
            "HELLO\n"
          ]
        }
      ]
    },
    {
      "cell_type": "code",
      "source": [
        "# Write a code to replace the word \"apple\" with \"orange\" in the string \"I like apple\"\n",
        "\n",
        "a = \"I like apple\"\n",
        "b= a.replace(\"apple\", \"orange\")\n",
        "print(b)"
      ],
      "metadata": {
        "colab": {
          "base_uri": "https://localhost:8080/"
        },
        "id": "wESb7WDZrF4j",
        "outputId": "806a0a71-c9f0-4191-b349-750590772b8f"
      },
      "execution_count": 7,
      "outputs": [
        {
          "output_type": "stream",
          "name": "stdout",
          "text": [
            "I like orange\n"
          ]
        }
      ]
    },
    {
      "cell_type": "code",
      "source": [
        "# Write a code to create a list with numbers 1 to 5 and print it\n",
        "\n",
        "l = list(range(1,6))\n",
        "print(l)"
      ],
      "metadata": {
        "colab": {
          "base_uri": "https://localhost:8080/"
        },
        "id": "Gzy7DA7zrbdE",
        "outputId": "ce5e5abf-70f5-463b-eabe-ded1c4c7fa73"
      },
      "execution_count": 8,
      "outputs": [
        {
          "output_type": "stream",
          "name": "stdout",
          "text": [
            "[1, 2, 3, 4, 5]\n"
          ]
        }
      ]
    },
    {
      "cell_type": "code",
      "source": [
        "# Write a code to append the number 10 to the list [1, 2, 3, 4]\n",
        "\n",
        "l= [1,2,3,4]\n",
        "l.append(10)\n",
        "print(l)"
      ],
      "metadata": {
        "colab": {
          "base_uri": "https://localhost:8080/"
        },
        "id": "7S1eEMMZrqwl",
        "outputId": "0fd1ea6f-8a3f-4175-93f1-f88b37bf8632"
      },
      "execution_count": 15,
      "outputs": [
        {
          "output_type": "stream",
          "name": "stdout",
          "text": [
            "[1, 2, 3, 4, 10]\n"
          ]
        }
      ]
    },
    {
      "cell_type": "code",
      "source": [
        "# Write a code to remove the number 3 from the list [1, 2, 3, 4, 5]\n",
        "\n",
        "l = [1,2,3,4,5]\n",
        "l.remove(3)\n",
        "print(l)"
      ],
      "metadata": {
        "colab": {
          "base_uri": "https://localhost:8080/"
        },
        "id": "a0qby7sRsR8B",
        "outputId": "5aaf8508-397f-4cea-b58a-de0066260345"
      },
      "execution_count": 16,
      "outputs": [
        {
          "output_type": "stream",
          "name": "stdout",
          "text": [
            "[1, 2, 4, 5]\n"
          ]
        }
      ]
    },
    {
      "cell_type": "code",
      "source": [
        "# Write a code to access the second element in the list ['a', 'b', 'c', 'd']\n",
        "\n",
        "l = [\"a\", \"b\", \"c\", \"d\"]\n",
        "\n",
        "print(l[1])"
      ],
      "metadata": {
        "colab": {
          "base_uri": "https://localhost:8080/"
        },
        "id": "Zy31-z2ssXbG",
        "outputId": "7ae9eb68-027c-4bbf-9ebc-68dd2d228e9e"
      },
      "execution_count": 17,
      "outputs": [
        {
          "output_type": "stream",
          "name": "stdout",
          "text": [
            "b\n"
          ]
        }
      ]
    },
    {
      "cell_type": "code",
      "source": [
        "# Write a code to reverse the list [10, 20, 30, 40, 50]\n",
        "\n",
        "numbers = [10, 20, 30, 40, 50]\n",
        "numbers.reverse()\n",
        "print(numbers)"
      ],
      "metadata": {
        "colab": {
          "base_uri": "https://localhost:8080/"
        },
        "id": "YsunP1YPskKm",
        "outputId": "3e278cf7-a5df-4a7e-aacc-06862444af07"
      },
      "execution_count": 18,
      "outputs": [
        {
          "output_type": "stream",
          "name": "stdout",
          "text": [
            "[50, 40, 30, 20, 10]\n"
          ]
        }
      ]
    },
    {
      "cell_type": "code",
      "source": [
        "# Write a code to create a tuple with the elements 100, 200, 300 and print it.\n",
        "\n",
        "t = (100, 200, 300)\n",
        "print(t)"
      ],
      "metadata": {
        "colab": {
          "base_uri": "https://localhost:8080/"
        },
        "id": "xEk39zLMs0ks",
        "outputId": "5f3434f9-dfab-413e-d536-c09bf2a33c00"
      },
      "execution_count": 20,
      "outputs": [
        {
          "output_type": "stream",
          "name": "stdout",
          "text": [
            "(100, 200, 300)\n"
          ]
        }
      ]
    },
    {
      "cell_type": "code",
      "source": [
        "# Write a code to access the second-to-last element of the tuple ('red', 'green', 'blue', 'yellow')\n",
        "\n",
        "t = ('red', 'green', 'blue', 'yellow')\n",
        "b = t[-2]\n",
        "print(b)"
      ],
      "metadata": {
        "colab": {
          "base_uri": "https://localhost:8080/"
        },
        "id": "ZFjpCqHCs_yS",
        "outputId": "e4879448-8f3d-49f1-e862-d46135a61cff"
      },
      "execution_count": 21,
      "outputs": [
        {
          "output_type": "stream",
          "name": "stdout",
          "text": [
            "blue\n"
          ]
        }
      ]
    },
    {
      "cell_type": "code",
      "source": [
        "# Write a code to find the minimum number in the tuple (10, 20, 5, 15).\n",
        "\n",
        "t = (10, 20, 5, 15)\n",
        "mini = min(t)\n",
        "print(mini)"
      ],
      "metadata": {
        "colab": {
          "base_uri": "https://localhost:8080/"
        },
        "id": "B3NgIGCBtSwp",
        "outputId": "9acfe52a-33b9-481b-fadb-f5146e76fe7b"
      },
      "execution_count": 22,
      "outputs": [
        {
          "output_type": "stream",
          "name": "stdout",
          "text": [
            "5\n"
          ]
        }
      ]
    },
    {
      "cell_type": "code",
      "source": [
        "# Write a code to find the index of the element \"cat\" in the tuple ('dog', 'cat', 'rabbit').\n",
        "\n",
        "t = ('dog', 'cat', 'rabbit')\n",
        "b = t.index(\"cat\")\n",
        "print(b)"
      ],
      "metadata": {
        "colab": {
          "base_uri": "https://localhost:8080/"
        },
        "id": "9tKxCmpZtfi-",
        "outputId": "34b8eaef-d41c-46b2-856d-0ab887337e9a"
      },
      "execution_count": 23,
      "outputs": [
        {
          "output_type": "stream",
          "name": "stdout",
          "text": [
            "1\n"
          ]
        }
      ]
    },
    {
      "cell_type": "code",
      "source": [
        "# Write a code to create a tuple containing three different fruits and check if \"kiwi\" is in it.\n",
        "\n",
        "f = (\"apple\", \"banana\", \"orange\")\n",
        "if \"kiwi\" in f:\n",
        "    print(\"kiwi is in the tuple\")\n",
        "else:\n",
        "    print(\"kiwi is not in the tuple\")"
      ],
      "metadata": {
        "colab": {
          "base_uri": "https://localhost:8080/"
        },
        "id": "hvUFmT7XtpjN",
        "outputId": "7da2b426-fd2d-4bb1-bdaf-ef56b328905c"
      },
      "execution_count": 24,
      "outputs": [
        {
          "output_type": "stream",
          "name": "stdout",
          "text": [
            "kiwi is not in the tuple\n"
          ]
        }
      ]
    },
    {
      "cell_type": "code",
      "source": [
        "# Write a code to create a set with the elements 'a', 'b', 'c' and print it.\n",
        "\n",
        "s = set(['a', 'b', 'c'])\n",
        "l= sorted(s)\n",
        "print(l)"
      ],
      "metadata": {
        "colab": {
          "base_uri": "https://localhost:8080/"
        },
        "id": "EwgGyQkzt4V8",
        "outputId": "24dbc1b3-ca44-4750-c122-aefbdcde48af"
      },
      "execution_count": 32,
      "outputs": [
        {
          "output_type": "stream",
          "name": "stdout",
          "text": [
            "['a', 'b', 'c']\n"
          ]
        }
      ]
    },
    {
      "cell_type": "code",
      "source": [
        "# Write a code to clear all elements from the set {1, 2, 3, 4, 5}.\n",
        "\n",
        "s= {1, 2, 3, 4, 5}\n",
        "s.clear()\n",
        "print(s)\n"
      ],
      "metadata": {
        "colab": {
          "base_uri": "https://localhost:8080/"
        },
        "id": "jJprfhh-veDq",
        "outputId": "fa8bdc55-b50d-4463-ee51-990c08bcadd1"
      },
      "execution_count": 33,
      "outputs": [
        {
          "output_type": "stream",
          "name": "stdout",
          "text": [
            "set()\n"
          ]
        }
      ]
    },
    {
      "cell_type": "code",
      "source": [
        "# Write a code to remove the element 4 from the set {1, 2, 3, 4}.\n",
        "\n",
        "s= {1, 2, 3, 4}\n",
        "s.remove(4)\n",
        "print(s)\n"
      ],
      "metadata": {
        "colab": {
          "base_uri": "https://localhost:8080/"
        },
        "id": "ikCS3RIevzBq",
        "outputId": "9b2096b3-7373-4cd5-ab78-495eafe1089d"
      },
      "execution_count": 34,
      "outputs": [
        {
          "output_type": "stream",
          "name": "stdout",
          "text": [
            "{1, 2, 3}\n"
          ]
        }
      ]
    },
    {
      "cell_type": "code",
      "source": [
        "# Write a code to find the union of two sets {1, 2, 3} and {3, 4, 5}.\n",
        "\n",
        "s1 = {1, 2, 3}\n",
        "s2 = {3, 4, 5}\n",
        "union = s1.union(s2)\n",
        "print(union)"
      ],
      "metadata": {
        "colab": {
          "base_uri": "https://localhost:8080/"
        },
        "id": "k90qOisTv6xR",
        "outputId": "9c612b08-f9cd-4b0d-e63a-4802ff961545"
      },
      "execution_count": 35,
      "outputs": [
        {
          "output_type": "stream",
          "name": "stdout",
          "text": [
            "{1, 2, 3, 4, 5}\n"
          ]
        }
      ]
    },
    {
      "cell_type": "code",
      "source": [
        "# Write a code to find the intersection of two sets {1, 2, 3} and {2, 3, 4}.\n",
        "\n",
        "s = {1, 2, 3}\n",
        "s2 = {2, 3, 4}\n",
        "intersect = s.intersection(s2)\n",
        "print(intersect)"
      ],
      "metadata": {
        "colab": {
          "base_uri": "https://localhost:8080/"
        },
        "id": "ygn9g5ozwBaC",
        "outputId": "9f894f50-0de1-4016-c6f3-d9d67ba71552"
      },
      "execution_count": 36,
      "outputs": [
        {
          "output_type": "stream",
          "name": "stdout",
          "text": [
            "{2, 3}\n"
          ]
        }
      ]
    },
    {
      "cell_type": "code",
      "source": [
        "# Write a code to create a dictionary with the keys \"name\", \"age\", and \"city\", and print it\n",
        "\n",
        "d = {\n",
        "    \"name\": \"Alice\",\n",
        "    \"age\": 25,\n",
        "    \"city\": \"New York\"\n",
        "}\n",
        "\n",
        "print(d)"
      ],
      "metadata": {
        "colab": {
          "base_uri": "https://localhost:8080/"
        },
        "id": "jo1tKtrcwNoG",
        "outputId": "ae767591-8bb1-4253-ad37-2506552040b8"
      },
      "execution_count": 38,
      "outputs": [
        {
          "output_type": "stream",
          "name": "stdout",
          "text": [
            "{'name': 'Alice', 'age': 25, 'city': 'New York'}\n"
          ]
        }
      ]
    },
    {
      "cell_type": "code",
      "source": [
        "# Write a code to add a new key-value pair \"country\": \"USA\" to the dictionary {'name': 'John', 'age': 25}.\n",
        "\n",
        "d = {\n",
        "    'name': 'John',\n",
        "    'age': 25\n",
        "    }\n",
        "\n",
        "d['country'] = 'USA'\n",
        "\n",
        "print(d)"
      ],
      "metadata": {
        "colab": {
          "base_uri": "https://localhost:8080/"
        },
        "id": "4x6aOPplwelm",
        "outputId": "afbf0762-e662-41f4-d111-0bb99848c7e3"
      },
      "execution_count": 42,
      "outputs": [
        {
          "output_type": "stream",
          "name": "stdout",
          "text": [
            "{'name': 'John', 'age': 25, 'country': 'USA'}\n"
          ]
        }
      ]
    },
    {
      "cell_type": "code",
      "source": [
        "# Write a code to access the value associated with the key \"name\" in the dictionary {'name': 'Alice', 'age': 30}.\n",
        "\n",
        "d = {\n",
        "    'name': 'Alice',\n",
        "    'age': 30\n",
        "    }\n",
        "\n",
        "print(d['name'])"
      ],
      "metadata": {
        "colab": {
          "base_uri": "https://localhost:8080/"
        },
        "id": "YHD7o7s6w6Ak",
        "outputId": "8c969eb1-1dce-4fc2-ff22-b2d2a24a416d"
      },
      "execution_count": 43,
      "outputs": [
        {
          "output_type": "stream",
          "name": "stdout",
          "text": [
            "Alice\n"
          ]
        }
      ]
    },
    {
      "cell_type": "code",
      "source": [
        "# Write a code to remove the key \"age\" from the dictionary {'name': 'Bob', 'age': 22, 'city': 'New York'}.\n",
        "\n",
        "d = {\n",
        "    'name': 'Bob',\n",
        "    'age': 22,\n",
        "    'city': 'New York'\n",
        "    }\n",
        "\n",
        "del d['age']\n",
        "\n",
        "print(d)"
      ],
      "metadata": {
        "colab": {
          "base_uri": "https://localhost:8080/"
        },
        "id": "xP5Q3dWXxFec",
        "outputId": "6608cb0c-c882-44ff-ca1c-ca03c9bfe63f"
      },
      "execution_count": 44,
      "outputs": [
        {
          "output_type": "stream",
          "name": "stdout",
          "text": [
            "{'name': 'Bob', 'city': 'New York'}\n"
          ]
        }
      ]
    },
    {
      "cell_type": "code",
      "source": [
        "# Write a code to check if the key \"city\" exists in the dictionary {'name': 'Alice', 'city': 'Paris'}.\n",
        "\n",
        "d = {\n",
        "    'name': 'Alice',\n",
        "    'city': 'Paris'\n",
        "    }\n",
        "\n",
        "if 'city' in d:\n",
        "    print(\"The key 'city' exists in the dictionary.\")\n",
        "else:\n",
        "    print(\"The key 'city' does not exist in the dictionary\")"
      ],
      "metadata": {
        "colab": {
          "base_uri": "https://localhost:8080/"
        },
        "id": "NUcMs4uJxWeL",
        "outputId": "ef7eac61-0d70-4410-b67c-3c000f1cb736"
      },
      "execution_count": 45,
      "outputs": [
        {
          "output_type": "stream",
          "name": "stdout",
          "text": [
            "The key 'city' exists in the dictionary.\n"
          ]
        }
      ]
    },
    {
      "cell_type": "code",
      "source": [
        "# Write a code to create a list, a tuple, and a dictionary, and print them all.\n",
        "\n",
        "s = [1, 2, 3, 4, 5]\n",
        "t = (10, 20, 30, 40, 50)\n",
        "d = {'name': 'Alice', 'age': 25}\n",
        "\n",
        "print(\"Set = \",s,\"\\nTuple = \", t,\"\\nDictionary = \", d)"
      ],
      "metadata": {
        "colab": {
          "base_uri": "https://localhost:8080/"
        },
        "id": "SnI_gfUvxq4a",
        "outputId": "0d429a69-52ee-4800-96a4-78540891f9f1"
      },
      "execution_count": 53,
      "outputs": [
        {
          "output_type": "stream",
          "name": "stdout",
          "text": [
            "Set =  [1, 2, 3, 4, 5] \n",
            "Tuple =  (10, 20, 30, 40, 50) \n",
            "Dictionary =  {'name': 'Alice', 'age': 25}\n"
          ]
        }
      ]
    },
    {
      "cell_type": "code",
      "source": [
        "# Write a code to create a list of 5 random numbers between 1 and 100, sort it in ascending order, and print the result.(replaced)\n",
        "\n",
        "import random\n",
        "\n",
        "random_numbers = sorted([random.randint(1, 100) for _ in range(5)])\n",
        "\n",
        "print(random_numbers)"
      ],
      "metadata": {
        "colab": {
          "base_uri": "https://localhost:8080/"
        },
        "id": "2TLsY-aXybFC",
        "outputId": "713c4541-398e-41f2-f1f0-91f052c1f3cc"
      },
      "execution_count": 58,
      "outputs": [
        {
          "output_type": "stream",
          "name": "stdout",
          "text": [
            "[21, 34, 36, 49, 95]\n"
          ]
        }
      ]
    },
    {
      "cell_type": "code",
      "source": [
        "# Write a code to create a list with strings and print the element at the third index\n",
        "\n",
        "l = [\"apple\", \"banana\", \"cherry\", \"date\", \"elderberry\"]\n",
        "\n",
        "print(l[3])"
      ],
      "metadata": {
        "colab": {
          "base_uri": "https://localhost:8080/"
        },
        "id": "RF-mVV1qzQ8t",
        "outputId": "907733aa-7ac4-4e60-be7f-df41d7b9f0f9"
      },
      "execution_count": 59,
      "outputs": [
        {
          "output_type": "stream",
          "name": "stdout",
          "text": [
            "date\n"
          ]
        }
      ]
    },
    {
      "cell_type": "code",
      "source": [
        "# Write a code to combine two dictionaries into one and print the result.\n",
        "\n",
        "d1 = {'a': 1, 'b': 2}\n",
        "d2 = {'c': 3, 'd': 4}\n",
        "\n",
        "dic = {**d1, **d2}\n",
        "\n",
        "print(dic)"
      ],
      "metadata": {
        "colab": {
          "base_uri": "https://localhost:8080/"
        },
        "id": "rSC9RemMzoaP",
        "outputId": "107b6d78-f2d6-474f-e111-b2bb92bdebf4"
      },
      "execution_count": 60,
      "outputs": [
        {
          "output_type": "stream",
          "name": "stdout",
          "text": [
            "{'a': 1, 'b': 2, 'c': 3, 'd': 4}\n"
          ]
        }
      ]
    },
    {
      "cell_type": "code",
      "source": [
        "# Write a code to convert a list of strings into a set.\n",
        "\n",
        "l = [\"apple\", \"banana\", \"cherry\", \"date\", \"elderberry\"]\n",
        "\n",
        "s = set(l)\n",
        "\n",
        "print(s)\n",
        "\n",
        "print(type(s))"
      ],
      "metadata": {
        "colab": {
          "base_uri": "https://localhost:8080/"
        },
        "id": "xveLyowdz9qf",
        "outputId": "3b13fe07-7472-478a-82bf-84e0a5679c41"
      },
      "execution_count": 64,
      "outputs": [
        {
          "output_type": "stream",
          "name": "stdout",
          "text": [
            "{'elderberry', 'cherry', 'banana', 'apple', 'date'}\n",
            "<class 'set'>\n"
          ]
        }
      ]
    }
  ]
}